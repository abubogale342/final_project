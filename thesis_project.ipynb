{
  "nbformat": 4,
  "nbformat_minor": 0,
  "metadata": {
    "colab": {
      "name": "thesis_project.ipynb",
      "version": "0.3.2",
      "provenance": [],
      "collapsed_sections": [],
      "include_colab_link": true
    },
    "language_info": {
      "codemirror_mode": {
        "name": "ipython",
        "version": 3
      },
      "file_extension": ".py",
      "mimetype": "text/x-python",
      "name": "python",
      "nbconvert_exporter": "python",
      "pygments_lexer": "ipython3",
      "version": "3.6.8"
    },
    "kernelspec": {
      "name": "python3",
      "display_name": "Python 3"
    },
    "accelerator": "TPU"
  },
  "cells": [
    {
      "cell_type": "markdown",
      "metadata": {
        "id": "view-in-github",
        "colab_type": "text"
      },
      "source": [
        "<a href=\"https://colab.research.google.com/github/abubogale342/final_project/blob/master/thesis_project.ipynb\" target=\"_parent\"><img src=\"https://colab.research.google.com/assets/colab-badge.svg\" alt=\"Open In Colab\"/></a>"
      ]
    },
    {
      "cell_type": "code",
      "metadata": {
        "id": "DjNGg04ZJuEU",
        "colab_type": "code",
        "outputId": "a41ac666-7b49-4a95-ab8a-718c8fd4adce",
        "colab": {
          "base_uri": "https://localhost:8080/",
          "height": 122
        }
      },
      "source": [
        "# Run this cell to mount your Google Drive.\n",
        "from google.colab import drive\n",
        "drive.mount('/content/drive')"
      ],
      "execution_count": 1,
      "outputs": [
        {
          "output_type": "stream",
          "text": [
            "Go to this URL in a browser: https://accounts.google.com/o/oauth2/auth?client_id=947318989803-6bn6qk8qdgf4n4g3pfee6491hc0brc4i.apps.googleusercontent.com&redirect_uri=urn%3Aietf%3Awg%3Aoauth%3A2.0%3Aoob&scope=email%20https%3A%2F%2Fwww.googleapis.com%2Fauth%2Fdocs.test%20https%3A%2F%2Fwww.googleapis.com%2Fauth%2Fdrive%20https%3A%2F%2Fwww.googleapis.com%2Fauth%2Fdrive.photos.readonly%20https%3A%2F%2Fwww.googleapis.com%2Fauth%2Fpeopleapi.readonly&response_type=code\n",
            "\n",
            "Enter your authorization code:\n",
            "··········\n",
            "Mounted at /content/drive\n"
          ],
          "name": "stdout"
        }
      ]
    },
    {
      "cell_type": "code",
      "metadata": {
        "id": "359NDN_wJiVF",
        "colab_type": "code",
        "colab": {}
      },
      "source": [
        "import pandas as pd\n",
        "ratings = pd.read_csv('/content/drive/My Drive/Colab Notebooks/ratings.csv')"
      ],
      "execution_count": 0,
      "outputs": []
    },
    {
      "cell_type": "code",
      "metadata": {
        "id": "84kiGStdJiVR",
        "colab_type": "code",
        "outputId": "16be01a0-3882-4ea6-cbde-4814cdb99fcf",
        "colab": {
          "base_uri": "https://localhost:8080/",
          "height": 34
        }
      },
      "source": [
        "ratings.size"
      ],
      "execution_count": 3,
      "outputs": [
        {
          "output_type": "execute_result",
          "data": {
            "text/plain": [
              "5157325"
            ]
          },
          "metadata": {
            "tags": []
          },
          "execution_count": 3
        }
      ]
    },
    {
      "cell_type": "code",
      "metadata": {
        "id": "nBRzJ2YEJiWR",
        "colab_type": "code",
        "outputId": "0169e640-6108-463e-eb23-d36c480faea0",
        "colab": {
          "base_uri": "https://localhost:8080/",
          "height": 34
        }
      },
      "source": [
        "len(ratings.user_id.unique()), len(ratings.meal_id.unique()), len(ratings.hotel_id.unique())"
      ],
      "execution_count": 4,
      "outputs": [
        {
          "output_type": "execute_result",
          "data": {
            "text/plain": [
              "(27694, 362, 4)"
            ]
          },
          "metadata": {
            "tags": []
          },
          "execution_count": 4
        }
      ]
    },
    {
      "cell_type": "code",
      "metadata": {
        "id": "k_K8Rh93JiWk",
        "colab_type": "code",
        "colab": {}
      },
      "source": [
        "ratings.user_id = ratings.user_id.astype('category').cat.codes.values\n",
        "ratings.meal_id = ratings.meal_id.astype('category').cat.codes.values\n",
        "ratings.hotel_id = ratings.hotel_id.astype('category').cat.codes.values"
      ],
      "execution_count": 0,
      "outputs": []
    },
    {
      "cell_type": "code",
      "metadata": {
        "id": "0I5Pw4KjJiWw",
        "colab_type": "code",
        "outputId": "0fcac6ee-39b8-455d-9c88-b72e1b586d2b",
        "colab": {
          "base_uri": "https://localhost:8080/",
          "height": 204
        }
      },
      "source": [
        "ratings.head()"
      ],
      "execution_count": 6,
      "outputs": [
        {
          "output_type": "execute_result",
          "data": {
            "text/html": [
              "<div>\n",
              "<style scoped>\n",
              "    .dataframe tbody tr th:only-of-type {\n",
              "        vertical-align: middle;\n",
              "    }\n",
              "\n",
              "    .dataframe tbody tr th {\n",
              "        vertical-align: top;\n",
              "    }\n",
              "\n",
              "    .dataframe thead th {\n",
              "        text-align: right;\n",
              "    }\n",
              "</style>\n",
              "<table border=\"1\" class=\"dataframe\">\n",
              "  <thead>\n",
              "    <tr style=\"text-align: right;\">\n",
              "      <th></th>\n",
              "      <th>Unnamed: 0</th>\n",
              "      <th>user_id</th>\n",
              "      <th>meal_id</th>\n",
              "      <th>rating</th>\n",
              "      <th>hotel_id</th>\n",
              "    </tr>\n",
              "  </thead>\n",
              "  <tbody>\n",
              "    <tr>\n",
              "      <th>0</th>\n",
              "      <td>0</td>\n",
              "      <td>0</td>\n",
              "      <td>253</td>\n",
              "      <td>5</td>\n",
              "      <td>2</td>\n",
              "    </tr>\n",
              "    <tr>\n",
              "      <th>1</th>\n",
              "      <td>1</td>\n",
              "      <td>1</td>\n",
              "      <td>255</td>\n",
              "      <td>5</td>\n",
              "      <td>2</td>\n",
              "    </tr>\n",
              "    <tr>\n",
              "      <th>2</th>\n",
              "      <td>2</td>\n",
              "      <td>1</td>\n",
              "      <td>25</td>\n",
              "      <td>4</td>\n",
              "      <td>0</td>\n",
              "    </tr>\n",
              "    <tr>\n",
              "      <th>3</th>\n",
              "      <td>3</td>\n",
              "      <td>1</td>\n",
              "      <td>307</td>\n",
              "      <td>3</td>\n",
              "      <td>3</td>\n",
              "    </tr>\n",
              "    <tr>\n",
              "      <th>4</th>\n",
              "      <td>4</td>\n",
              "      <td>1</td>\n",
              "      <td>32</td>\n",
              "      <td>4</td>\n",
              "      <td>0</td>\n",
              "    </tr>\n",
              "  </tbody>\n",
              "</table>\n",
              "</div>"
            ],
            "text/plain": [
              "   Unnamed: 0  user_id  meal_id  rating  hotel_id\n",
              "0           0        0      253       5         2\n",
              "1           1        1      255       5         2\n",
              "2           2        1       25       4         0\n",
              "3           3        1      307       3         3\n",
              "4           4        1       32       4         0"
            ]
          },
          "metadata": {
            "tags": []
          },
          "execution_count": 6
        }
      ]
    },
    {
      "cell_type": "code",
      "metadata": {
        "id": "-wXah_IlJiXB",
        "colab_type": "code",
        "colab": {}
      },
      "source": [
        "from sklearn.model_selection import train_test_split\n",
        "train, test = train_test_split(ratings, test_size=0.2)"
      ],
      "execution_count": 0,
      "outputs": []
    },
    {
      "cell_type": "code",
      "metadata": {
        "id": "TfOD1-Y9JiXT",
        "colab_type": "code",
        "outputId": "e1027a2c-f084-460b-af9a-70160558046f",
        "colab": {
          "base_uri": "https://localhost:8080/",
          "height": 204
        }
      },
      "source": [
        "train.head()"
      ],
      "execution_count": 8,
      "outputs": [
        {
          "output_type": "execute_result",
          "data": {
            "text/html": [
              "<div>\n",
              "<style scoped>\n",
              "    .dataframe tbody tr th:only-of-type {\n",
              "        vertical-align: middle;\n",
              "    }\n",
              "\n",
              "    .dataframe tbody tr th {\n",
              "        vertical-align: top;\n",
              "    }\n",
              "\n",
              "    .dataframe thead th {\n",
              "        text-align: right;\n",
              "    }\n",
              "</style>\n",
              "<table border=\"1\" class=\"dataframe\">\n",
              "  <thead>\n",
              "    <tr style=\"text-align: right;\">\n",
              "      <th></th>\n",
              "      <th>Unnamed: 0</th>\n",
              "      <th>user_id</th>\n",
              "      <th>meal_id</th>\n",
              "      <th>rating</th>\n",
              "      <th>hotel_id</th>\n",
              "    </tr>\n",
              "  </thead>\n",
              "  <tbody>\n",
              "    <tr>\n",
              "      <th>429841</th>\n",
              "      <td>429841</td>\n",
              "      <td>13617</td>\n",
              "      <td>70</td>\n",
              "      <td>5</td>\n",
              "      <td>0</td>\n",
              "    </tr>\n",
              "    <tr>\n",
              "      <th>223745</th>\n",
              "      <td>223745</td>\n",
              "      <td>8606</td>\n",
              "      <td>134</td>\n",
              "      <td>5</td>\n",
              "      <td>1</td>\n",
              "    </tr>\n",
              "    <tr>\n",
              "      <th>137855</th>\n",
              "      <td>137855</td>\n",
              "      <td>6505</td>\n",
              "      <td>259</td>\n",
              "      <td>3</td>\n",
              "      <td>2</td>\n",
              "    </tr>\n",
              "    <tr>\n",
              "      <th>507046</th>\n",
              "      <td>507046</td>\n",
              "      <td>15532</td>\n",
              "      <td>117</td>\n",
              "      <td>4</td>\n",
              "      <td>1</td>\n",
              "    </tr>\n",
              "    <tr>\n",
              "      <th>1018227</th>\n",
              "      <td>1018227</td>\n",
              "      <td>27426</td>\n",
              "      <td>69</td>\n",
              "      <td>4</td>\n",
              "      <td>0</td>\n",
              "    </tr>\n",
              "  </tbody>\n",
              "</table>\n",
              "</div>"
            ],
            "text/plain": [
              "         Unnamed: 0  user_id  meal_id  rating  hotel_id\n",
              "429841       429841    13617       70       5         0\n",
              "223745       223745     8606      134       5         1\n",
              "137855       137855     6505      259       3         2\n",
              "507046       507046    15532      117       4         1\n",
              "1018227     1018227    27426       69       4         0"
            ]
          },
          "metadata": {
            "tags": []
          },
          "execution_count": 8
        }
      ]
    },
    {
      "cell_type": "code",
      "metadata": {
        "id": "iNkpbhVCJiYV",
        "colab_type": "code",
        "colab": {}
      },
      "source": [
        "test.head()\n",
        "y_true = test.rating"
      ],
      "execution_count": 0,
      "outputs": []
    },
    {
      "cell_type": "code",
      "metadata": {
        "scrolled": true,
        "id": "tO4--RMUJiYn",
        "colab_type": "code",
        "outputId": "c8fc5953-1910-40ad-8216-c36a0c0d2584",
        "colab": {
          "base_uri": "https://localhost:8080/",
          "height": 34
        }
      },
      "source": [
        "import keras\n",
        "n_latent_factors_user = 24\n",
        "n_latent_factors_meal = 10\n",
        "n_latent_factors_hotel = 4\n",
        "n_latent_factors_mf = 3\n",
        "n_users, n_meals, n_hotels = len(ratings.user_id.unique()), len(ratings.meal_id.unique()), len(ratings.hotel_id.unique())"
      ],
      "execution_count": 10,
      "outputs": [
        {
          "output_type": "stream",
          "text": [
            "Using TensorFlow backend.\n"
          ],
          "name": "stderr"
        }
      ]
    },
    {
      "cell_type": "code",
      "metadata": {
        "id": "-JAoBcY3JiZb",
        "colab_type": "code",
        "outputId": "f95fc31e-c9ad-4c78-f227-d7d3e8cbc584",
        "colab": {
          "base_uri": "https://localhost:8080/",
          "height": 241
        }
      },
      "source": [
        "user_input = keras.layers.Input(shape=[1],name='user')\n",
        "user_embedding_mlp = keras.layers.Embedding(n_users + 1, n_latent_factors_user, name='user-Embedding-MLP')(user_input)\n",
        "user_vec_mlp = keras.layers.Flatten(name='FlattenUsers-MLP')(user_embedding_mlp)\n",
        "user_vec_mlp = keras.layers.Dropout(0.2)(user_vec_mlp)\n",
        "\n",
        "user_embedding_mf = keras.layers.Embedding(n_users + 1, n_latent_factors_mf, name='user-Embedding-MF')(user_input)\n",
        "user_vec_mf = keras.layers.Flatten(name='FlattenUsers-MF')(user_embedding_mf)\n",
        "user_vec_mf = keras.layers.Dropout(0.2)(user_vec_mf)"
      ],
      "execution_count": 11,
      "outputs": [
        {
          "output_type": "stream",
          "text": [
            "WARNING: Logging before flag parsing goes to stderr.\n",
            "W0701 23:31:21.396380 139732325050240 deprecation_wrapper.py:119] From /usr/local/lib/python3.6/dist-packages/keras/backend/tensorflow_backend.py:517: The name tf.placeholder is deprecated. Please use tf.compat.v1.placeholder instead.\n",
            "\n",
            "W0701 23:31:21.463874 139732325050240 deprecation_wrapper.py:119] From /usr/local/lib/python3.6/dist-packages/keras/backend/tensorflow_backend.py:4138: The name tf.random_uniform is deprecated. Please use tf.random.uniform instead.\n",
            "\n",
            "W0701 23:31:21.503048 139732325050240 deprecation_wrapper.py:119] From /usr/local/lib/python3.6/dist-packages/keras/backend/tensorflow_backend.py:74: The name tf.get_default_graph is deprecated. Please use tf.compat.v1.get_default_graph instead.\n",
            "\n",
            "W0701 23:31:21.504619 139732325050240 deprecation_wrapper.py:119] From /usr/local/lib/python3.6/dist-packages/keras/backend/tensorflow_backend.py:133: The name tf.placeholder_with_default is deprecated. Please use tf.compat.v1.placeholder_with_default instead.\n",
            "\n",
            "W0701 23:31:21.519992 139732325050240 deprecation.py:506] From /usr/local/lib/python3.6/dist-packages/keras/backend/tensorflow_backend.py:3445: calling dropout (from tensorflow.python.ops.nn_ops) with keep_prob is deprecated and will be removed in a future version.\n",
            "Instructions for updating:\n",
            "Please use `rate` instead of `keep_prob`. Rate should be set to `rate = 1 - keep_prob`.\n"
          ],
          "name": "stderr"
        }
      ]
    },
    {
      "cell_type": "code",
      "metadata": {
        "id": "uNbGckhNJiZt",
        "colab_type": "code",
        "colab": {}
      },
      "source": [
        "meal_input = keras.layers.Input(shape=[1],name='meal')\n",
        "meal_embedding_mlp = keras.layers.Embedding(n_meals + 1, n_latent_factors_meal, name='meal-Embedding-MLP')(meal_input)\n",
        "meal_vec_mlp = keras.layers.Flatten(name='FlattenMeal-MLP')(meal_embedding_mlp)\n",
        "meal_vec_mlp = keras.layers.Dropout(0.2)(meal_vec_mlp)\n",
        "\n",
        "meal_embedding_mf = keras.layers.Embedding(n_meals + 1, n_latent_factors_mf, name='meal-Embedding-MF')(meal_input)\n",
        "meal_vec_mf = keras.layers.Flatten(name='FlattenMeal-MF')(meal_embedding_mf)\n",
        "meal_vec_mf = keras.layers.Dropout(0.2)(meal_vec_mf)"
      ],
      "execution_count": 0,
      "outputs": []
    },
    {
      "cell_type": "code",
      "metadata": {
        "id": "K7TcG41pJiaX",
        "colab_type": "code",
        "colab": {}
      },
      "source": [
        "hotel_input = keras.layers.Input(shape=[1],name='hotel')\n",
        "hotel_embedding_mlp = keras.layers.Embedding(n_hotels + 1, n_latent_factors_hotel, name='hotel-Embedding-MLP')(hotel_input)\n",
        "hotel_vec_mlp = keras.layers.Flatten(name='FlattenHotels-MLP')(hotel_embedding_mlp)\n",
        "hotel_vec_mlp = keras.layers.Dropout(0.2)(hotel_vec_mlp)\n",
        "\n",
        "hotel_embedding_mf = keras.layers.Embedding(n_hotels + 1, n_latent_factors_mf, name='hotel-Embedding-MF')(hotel_input)\n",
        "hotel_vec_mf = keras.layers.Flatten(name='FlattenHotels-MF')(hotel_embedding_mf)\n",
        "hotel_vec_mf = keras.layers.Dropout(0.2)(hotel_vec_mf)"
      ],
      "execution_count": 0,
      "outputs": []
    },
    {
      "cell_type": "code",
      "metadata": {
        "id": "hDrbe7Y6Jiag",
        "colab_type": "code",
        "colab": {}
      },
      "source": [
        "concat = keras.layers.merge.Concatenate(name='concat')([user_vec_mlp,meal_vec_mlp,hotel_vec_mlp])\n",
        "pred_mf = keras.layers.merge.Multiply(name='mul')([user_vec_mf,meal_vec_mf,hotel_vec_mf])"
      ],
      "execution_count": 0,
      "outputs": []
    },
    {
      "cell_type": "code",
      "metadata": {
        "id": "2zGO_cCyoqz2",
        "colab_type": "code",
        "colab": {}
      },
      "source": [
        "concat_dropout = keras.layers.Dropout(0.2)(concat)"
      ],
      "execution_count": 0,
      "outputs": []
    },
    {
      "cell_type": "code",
      "metadata": {
        "id": "8PjgES69Jiao",
        "colab_type": "code",
        "colab": {}
      },
      "source": [
        "dense = keras.layers.Dense(200,name='FullyConnected')(concat_dropout)\n",
        "dense_batch = keras.layers.BatchNormalization(name='Batch')(dense)\n",
        "dropout_1 = keras.layers.Dropout(0.2,name='Dropout-1')(dense_batch)\n",
        "dense_2 = keras.layers.Dense(100,name='FullyConnected-1')(dropout_1)\n",
        "dense_batch_2 = keras.layers.BatchNormalization(name='Batch-2')(dense_2)\n",
        "dropout_2 = keras.layers.Dropout(0.2,name='Dropout-2')(dense_batch_2)\n",
        "dense_3 = keras.layers.Dense(50,name='FullyConnected-2')(dropout_2)\n",
        "dense_4 = keras.layers.Dense(20,name='FullyConnected-3', activation='relu')(dense_3)\n",
        "pred_mlp = keras.layers.Dense(1, activation='relu',name='Activation')(dense_4)\n",
        "combine_mlp_mf = keras.layers.merge.Concatenate(name='concat2')([pred_mf, pred_mlp])\n",
        "result_combine = keras.layers.Dense(100,name='Combine-MF-MLP')(combine_mlp_mf)\n",
        "deep_combine = keras.layers.Dense(100,name='FullyConnected-4')(result_combine)\n",
        "result = keras.layers.Dense(1,name='Prediction')(deep_combine)\n",
        "model = keras.Model([user_input, meal_input, hotel_input], result)\n",
        "opt = keras.optimizers.Adam(lr =0.01)\n",
        "model.compile(optimizer='adam',loss= 'mean_absolute_error')"
      ],
      "execution_count": 0,
      "outputs": []
    },
    {
      "cell_type": "code",
      "metadata": {
        "id": "cnbXcYnlNb72",
        "colab_type": "code",
        "outputId": "5db90a1e-62da-48db-df80-9348bd04908f",
        "colab": {
          "base_uri": "https://localhost:8080/",
          "height": 428
        }
      },
      "source": [
        "history = model.fit([train.user_id, train.meal_id,train.hotel_id], train.rating, epochs=11, verbose=1, validation_split=0.1)\n",
        "model_json = model.to_json()\n",
        "with open(\"model.json\",\"w\") as json_file:\n",
        "  json_file.write(model_json)\n",
        "model.save_weights(\"model.h5\")"
      ],
      "execution_count": 23,
      "outputs": [
        {
          "output_type": "stream",
          "text": [
            "Train on 742654 samples, validate on 82518 samples\n",
            "Epoch 1/11\n",
            "742654/742654 [==============================] - 330s 445us/step - loss: 0.7674 - val_loss: 0.7496\n",
            "Epoch 2/11\n",
            "742654/742654 [==============================] - 342s 460us/step - loss: 0.7484 - val_loss: 0.7434\n",
            "Epoch 3/11\n",
            "742654/742654 [==============================] - 339s 456us/step - loss: 0.7398 - val_loss: 0.7362\n",
            "Epoch 4/11\n",
            "742654/742654 [==============================] - 341s 459us/step - loss: 0.7335 - val_loss: 0.7355\n",
            "Epoch 5/11\n",
            "742654/742654 [==============================] - 339s 456us/step - loss: 0.7297 - val_loss: 0.7306\n",
            "Epoch 6/11\n",
            "742654/742654 [==============================] - 340s 458us/step - loss: 0.7257 - val_loss: 0.7258\n",
            "Epoch 7/11\n",
            "742654/742654 [==============================] - 340s 458us/step - loss: 0.7235 - val_loss: 0.7289\n",
            "Epoch 8/11\n",
            "742654/742654 [==============================] - 340s 457us/step - loss: 0.7214 - val_loss: 0.7253\n",
            "Epoch 9/11\n",
            "742654/742654 [==============================] - 338s 455us/step - loss: 0.7200 - val_loss: 0.7266\n",
            "Epoch 10/11\n",
            "742654/742654 [==============================] - 340s 458us/step - loss: 0.7180 - val_loss: 0.7259\n",
            "Epoch 11/11\n",
            "330592/742654 [============>.................] - ETA: 3:05 - loss: 0.7131Buffered data was truncated after reaching the output size limit."
          ],
          "name": "stdout"
        }
      ]
    },
    {
      "cell_type": "code",
      "metadata": {
        "id": "dzrzzinCBaW2",
        "colab_type": "code",
        "colab": {}
      },
      "source": [
        ""
      ],
      "execution_count": 0,
      "outputs": []
    }
  ]
}